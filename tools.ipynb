{
 "cells": [
  {
   "cell_type": "markdown",
   "metadata": {},
   "source": [
    "# Make frames out of video"
   ]
  },
  {
   "cell_type": "code",
   "execution_count": null,
   "metadata": {},
   "outputs": [],
   "source": [
    "import cv2\n",
    "import os\n",
    "\n",
    "def extract_frames(video_file):\n",
    "    \"\"\"\n",
    "    Extract frames from a video file and save them in frames/video_name/ directory.\n",
    "    \n",
    "    Args:\n",
    "        video_file (str): Path to the video file\n",
    "    \"\"\"\n",
    "    # Get video filename without extension\n",
    "    video_name = os.path.splitext(os.path.basename(video_file))[0]\n",
    "    \n",
    "    # Create output directory structure\n",
    "    output_folder = os.path.join('frames', video_name)\n",
    "    os.makedirs(output_folder, exist_ok=True)\n",
    "    \n",
    "    # Open the video file\n",
    "    cap = cv2.VideoCapture(video_file)\n",
    "    if not cap.isOpened():\n",
    "        raise ValueError(\"Error: Could not open video file\")\n",
    "    \n",
    "    # Read the video file frame by frame\n",
    "    frame_number = 0\n",
    "    while True:\n",
    "        ret, frame = cap.read()\n",
    "        if not ret:\n",
    "            break\n",
    "            \n",
    "        # Save the frame as an image file\n",
    "        image_file = os.path.join(output_folder, f\"frame_{frame_number:04d}.jpg\")\n",
    "        cv2.imwrite(image_file, frame)\n",
    "        frame_number += 1\n",
    "    \n",
    "    # Release the video file\n",
    "    cap.release()\n",
    "    print(f\"Extracted {frame_number} frames to {output_folder}\")\n",
    "    return output_folder\n",
    "\n",
    "# Example usage in notebook\n",
    "video_path = \"output_videos/IMG_8291_output.mp4\"  # Replace with your video path\n",
    "output_path = extract_frames(video_path)"
   ]
  }
 ],
 "metadata": {
  "kernelspec": {
   "display_name": "myenv",
   "language": "python",
   "name": "python3"
  },
  "language_info": {
   "codemirror_mode": {
    "name": "ipython",
    "version": 3
   },
   "file_extension": ".py",
   "mimetype": "text/x-python",
   "name": "python",
   "nbconvert_exporter": "python",
   "pygments_lexer": "ipython3",
   "version": "3.10.12"
  }
 },
 "nbformat": 4,
 "nbformat_minor": 2
}
